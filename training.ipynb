{
 "cells": [
  {
   "cell_type": "code",
   "execution_count": 33,
   "id": "9c97f92a",
   "metadata": {},
   "outputs": [],
   "source": [
    "from transformers import Trainer, TrainingArguments, EarlyStoppingCallback\n",
    "from datasets import load_dataset, ClassLabel, load_from_disk\n",
    "from sklearn.metrics import accuracy_score, f1_score, confusion_matrix\n",
    "from datetime import datetime\n",
    "import numpy as np\n",
    "import wandb\n",
    "import torch\n",
    "from torch.utils.data import DataLoader, WeightedRandomSampler\n"
   ]
  },
  {
   "cell_type": "code",
   "execution_count": 34,
   "id": "b7e8f38a",
   "metadata": {},
   "outputs": [],
   "source": [
    "label_column = \"Detailed_Cluster_names\"\n",
    "sub_group = \"B cells\"\n",
    "batch_size = 1024\n",
    "epochs = 200\n",
    "\n",
    "output_dir = \"/equilibrium/datasets/TCGA-histological-data/scImmunology/output\""
   ]
  },
  {
   "cell_type": "code",
   "execution_count": 35,
   "id": "bb2c93bf",
   "metadata": {},
   "outputs": [],
   "source": [
    "dataset = load_from_disk(\n",
    "    \"/equilibrium/datasets/TCGA-histological-data/scImmunology/dataset_v3\"\n",
    ")"
   ]
  },
  {
   "cell_type": "code",
   "execution_count": 36,
   "id": "a32a586f",
   "metadata": {},
   "outputs": [],
   "source": [
    "# filter dataset by sub_group\n",
    "dataset = dataset.filter(lambda example: example['Cluster_names'] == sub_group)"
   ]
  },
  {
   "cell_type": "code",
   "execution_count": 37,
   "id": "42489db4",
   "metadata": {},
   "outputs": [],
   "source": [
    "# # Mappa Detailed_Cluster_names → Cluster_names (macro categorie)\n",
    "# sub_to_macro = {\n",
    "#     # B cells\n",
    "#     \"Activated\": \"B cells\",\n",
    "#     \"Atypical memory\": \"B cells\",\n",
    "#     \"CD5+ B cells\": \"B cells\",\n",
    "#     \"Naive\": \"B cells\",\n",
    "#     \"Naive-IFN\": \"B cells\",\n",
    "#     \"Non-switched memory\": \"B cells\",\n",
    "#     \"Plasma cells\": \"B cells\",\n",
    "#     \"Switched memory\": \"B cells\",\n",
    "#     \"Transitional\": \"B cells\",\n",
    "\n",
    "#     # CD4+ T cells\n",
    "#     \"Exhausted-like memory\": \"CD4+ T cells\",\n",
    "#     \"HLA-DR+ memory\": \"CD4+ T cells\",\n",
    "#     \"Naive\": \"CD4+ T cells\",\n",
    "#     \"Naive-IFN\": \"CD4+ T cells\",\n",
    "#     \"Temra\": \"CD4+ T cells\",\n",
    "#     \"Terminal effector\": \"CD4+ T cells\",\n",
    "#     \"Tfh\": \"CD4+ T cells\",\n",
    "#     \"Th1\": \"CD4+ T cells\",\n",
    "#     \"Th1/Th17\": \"CD4+ T cells\",\n",
    "#     \"Th17\": \"CD4+ T cells\",\n",
    "#     \"Th2\": \"CD4+ T cells\",\n",
    "#     \"Th22\": \"CD4+ T cells\",\n",
    "#     \"Treg KLRB1+RORC+\": \"CD4+ T cells\",\n",
    "#     \"Treg cytotoxic\": \"CD4+ T cells\",\n",
    "#     \"Treg memory\": \"CD4+ T cells\",\n",
    "#     \"Treg naive\": \"CD4+ T cells\",\n",
    "\n",
    "#     # gd T cells\n",
    "#     \"Vd1 GZMB+\": \"gd T cells\",\n",
    "#     \"Vd1 GZMK+\": \"gd T cells\",\n",
    "#     \"Vd2 GZMB+\": \"gd T cells\",\n",
    "#     \"Vd2 GZMK+\": \"gd T cells\",\n",
    "#     \"gd naive\": \"gd T cells\",\n",
    "\n",
    "#     # Myeloid cells\n",
    "#     \"Classical monocytes\": \"Myeloid cells\",\n",
    "#     \"Non-classical monocytes\": \"Myeloid cells\",\n",
    "#     \"cDCs\": \"Myeloid cells\",\n",
    "#     \"pDCs\": \"Myeloid cells\",\n",
    "\n",
    "#     # NK cells\n",
    "#     \"CD56bright\": \"NK cells\",\n",
    "#     \"CD56dim CD57+\": \"NK cells\",\n",
    "#     \"CD56dim CD57-\": \"NK cells\",\n",
    "#     \"CD56dim CD57int\": \"NK cells\",\n",
    "#     \"CD56dim CD57low\": \"NK cells\",\n",
    "#     \"Proliferative\": \"NK cells\",   # ← in NK classifier\n",
    "\n",
    "#     # TRAV1-2- CD8+ T cells\n",
    "#     \"HLA-DR+\": \"TRAV1-2- CD8+ T cells\",\n",
    "#     \"NKT-like\": \"TRAV1-2- CD8+ T cells\",\n",
    "#     \"Naive\": \"TRAV1-2- CD8+ T cells\",\n",
    "#     \"Naive-IFN\": \"TRAV1-2- CD8+ T cells\",\n",
    "#     \"Proliferative\": \"TRAV1-2- CD8+ T cells\",  # ← in CD8 classifier\n",
    "#     \"Tcm CCR4+\": \"TRAV1-2- CD8+ T cells\",\n",
    "#     \"Tcm CCR4-\": \"TRAV1-2- CD8+ T cells\",\n",
    "#     \"Tem GZMB+\": \"TRAV1-2- CD8+ T cells\",\n",
    "#     \"Tem GZMK+\": \"TRAV1-2- CD8+ T cells\",\n",
    "#     \"Temra\": \"TRAV1-2- CD8+ T cells\",\n",
    "#     \"Tmem KLRC2+\": \"TRAV1-2- CD8+ T cells\",\n",
    "#     \"Trm\": \"TRAV1-2- CD8+ T cells\",\n",
    "\n",
    "#     # Macro categorie dirette (già definite come classi singole)\n",
    "#     \"DN T cells\": \"DN T cells\",\n",
    "#     \"MAIT cells\": \"MAIT cells\",\n",
    "#     \"Progenitor cells\": \"Progenitor cells\"\n",
    "# }\n",
    "\n",
    "# dataset = dataset.map(lambda x: {\n",
    "#     \"Cluster_names\": sub_to_macro.get(x[\"Detailed_Cluster_names\"], \"Unknown\")\n",
    "# })\n"
   ]
  },
  {
   "cell_type": "code",
   "execution_count": 38,
   "id": "0e44dc29",
   "metadata": {},
   "outputs": [],
   "source": [
    "if label_column != \"Cluster_names\":\n",
    "    dataset = dataset.filter(lambda example: example[\"Cluster_names\"] == sub_group)\n",
    "\n",
    "# Gestione etichette\n",
    "unique_labels = sorted(set(dataset['validation'][label_column]))\n",
    "class_label = ClassLabel(names=unique_labels)\n",
    "\n",
    "if len(unique_labels) == 1:\n",
    "    raise ValueError(f\"Only one class found in the dataset: {unique_labels}. Cannot train a classifier with a single class.\")\n",
    "\n",
    "dataset = dataset.cast_column(label_column, class_label)\n",
    "label_feature = dataset['train'].features[label_column]\n",
    "id2label = {i: label_feature.int2str(i) for i in range(label_feature.num_classes)}\n",
    "label2id = {v: k for k, v in id2label.items()}"
   ]
  },
  {
   "cell_type": "code",
   "execution_count": 39,
   "id": "c2826fb7",
   "metadata": {},
   "outputs": [],
   "source": [
    "dataset = dataset.rename_column(\"embedding\", \"input_ids\")\n",
    "column_remove = [col for col in dataset['validation'].column_names if col != label_column and col != 'input_ids']\n",
    "dataset = dataset.remove_columns(column_remove)\n",
    "\n",
    "# Convertilo in torch Dataset\n",
    "dataset['train'] = dataset['train'].with_format(\n",
    "    type='torch',\n",
    "    columns=['input_ids', label_column],\n",
    "    device='cuda'\n",
    ")\n",
    "\n",
    "dataset['validation'] = dataset['validation'].with_format(\n",
    "    type='torch',\n",
    "    columns=['input_ids', label_column],\n",
    "    device='cuda'\n",
    ")\n",
    "\n",
    "dataset = dataset.rename_columns({label_column: \"labels\"})"
   ]
  },
  {
   "cell_type": "code",
   "execution_count": 40,
   "id": "333d7cad",
   "metadata": {},
   "outputs": [],
   "source": [
    "import torch\n",
    "import torch.nn as nn\n",
    "import torch.nn.functional as F\n",
    "from typing import Optional, List\n",
    "from transformers.modeling_outputs import SequenceClassifierOutput\n",
    "\n",
    "\n",
    "class MLPBlock(nn.Module):\n",
    "    def __init__(self, input_dim: int, output_dim: int, dropout_rate: float = 0.2, use_residual: bool = False):\n",
    "        super().__init__()\n",
    "        self.use_residual = use_residual and (input_dim == output_dim)\n",
    "\n",
    "        self.linear = nn.Linear(input_dim, output_dim)\n",
    "        self.bn = nn.BatchNorm1d(output_dim)\n",
    "        self.activation = nn.GELU()\n",
    "        self.dropout = nn.Dropout(dropout_rate)\n",
    "\n",
    "    def forward(self, x: torch.Tensor) -> torch.Tensor:\n",
    "        identity = x\n",
    "        x = self.linear(x)\n",
    "        x = self.bn(x)\n",
    "        x = self.activation(x)\n",
    "        x = self.dropout(x)\n",
    "        if self.use_residual:\n",
    "            x = x + identity\n",
    "        return x\n",
    "\n",
    "\n",
    "class AdvancedMLPClassifier(nn.Module):\n",
    "    def __init__(\n",
    "        self,\n",
    "        input_dim: int,\n",
    "        hidden_dims: List[int],\n",
    "        output_dim: int,\n",
    "        dropout_rate: float = 0.2,\n",
    "        use_residual_in_hidden: bool = True,\n",
    "        loss_fn: Optional[nn.Module] = None\n",
    "    ):\n",
    "        super().__init__()\n",
    "\n",
    "\n",
    "\n",
    "        self.initial_bn = nn.BatchNorm1d(input_dim)\n",
    "\n",
    "        all_dims = [input_dim] + hidden_dims\n",
    "        mlp_layers = []\n",
    "        for i in range(len(all_dims) - 1):\n",
    "            mlp_layers.append(\n",
    "                MLPBlock(\n",
    "                    input_dim=all_dims[i],\n",
    "                    output_dim=all_dims[i + 1],\n",
    "                    dropout_rate=dropout_rate,\n",
    "                    use_residual=use_residual_in_hidden and (all_dims[i] == all_dims[i + 1])\n",
    "                )\n",
    "            )\n",
    "        self.hidden_network = nn.Sequential(*mlp_layers)\n",
    "        self.output_projection = nn.Linear(all_dims[-1], output_dim)\n",
    "        self.loss_fn = loss_fn if loss_fn is not None else nn.CrossEntropyLoss()\n",
    "\n",
    "        self._initialize_weights()\n",
    "\n",
    "    def forward(\n",
    "        self,\n",
    "        input_ids: torch.Tensor,\n",
    "        labels: Optional[torch.Tensor] = None,\n",
    "        attention_mask: Optional[torch.Tensor] = None,\n",
    "        token_type_ids: Optional[torch.Tensor] = None,\n",
    "        return_dict: Optional[bool] = True,\n",
    "        **kwargs\n",
    "    ) -> SequenceClassifierOutput:\n",
    "\n",
    "        if input_ids.ndim > 2:\n",
    "            input_ids = input_ids.view(input_ids.size(0), -1)  # Flatten if necessary\n",
    "\n",
    "        x = self.initial_bn(input_ids)\n",
    "        x = self.hidden_network(x)\n",
    "        logits = self.output_projection(x)\n",
    "\n",
    "        loss = self.loss_fn(logits, labels) if labels is not None else None\n",
    "\n",
    "        if not return_dict:\n",
    "            return (logits, loss) if loss is not None else (logits,)\n",
    "\n",
    "        return SequenceClassifierOutput(\n",
    "            loss=loss,\n",
    "            logits=logits,\n",
    "            hidden_states=None,\n",
    "            attentions=None\n",
    "        )\n",
    "\n",
    "    def _initialize_weights(self):\n",
    "        for m in self.modules():\n",
    "            if isinstance(m, nn.Linear):\n",
    "                nn.init.kaiming_normal_(m.weight, nonlinearity='relu')\n",
    "                if m.bias is not None:\n",
    "                    nn.init.zeros_(m.bias)\n",
    "            elif isinstance(m, nn.BatchNorm1d):\n",
    "                nn.init.constant_(m.weight, 1)\n",
    "                nn.init.constant_(m.bias, 0)\n"
   ]
  },
  {
   "cell_type": "code",
   "execution_count": 41,
   "id": "d70c6179",
   "metadata": {},
   "outputs": [],
   "source": [
    "input_dim = 3072\n",
    "labels = np.unique(dataset['test']['labels'])\n",
    "output_dim = len(labels)\n",
    "hidden_dims = [3072, 1536, 768]\n",
    "hidden_str = \"hdim_\" + \"x\".join(map(str, hidden_dims))\n",
    "\n",
    "model = AdvancedMLPClassifier(input_dim, hidden_dims, output_dim)"
   ]
  },
  {
   "cell_type": "code",
   "execution_count": 42,
   "id": "f7745413",
   "metadata": {},
   "outputs": [
    {
     "data": {
      "text/html": [
       "Finishing previous runs because reinit is set to 'default'."
      ],
      "text/plain": [
       "<IPython.core.display.HTML object>"
      ]
     },
     "metadata": {},
     "output_type": "display_data"
    },
    {
     "name": "stderr",
     "output_type": "stream",
     "text": [
      "\u001b[34m\u001b[1mwandb\u001b[0m: \u001b[32m\u001b[41mERROR\u001b[0m The nbformat package was not found. It is required to save notebook history.\n"
     ]
    },
    {
     "data": {
      "text/html": [],
      "text/plain": [
       "<IPython.core.display.HTML object>"
      ]
     },
     "metadata": {},
     "output_type": "display_data"
    },
    {
     "data": {
      "text/html": [
       " View run <strong style=\"color:#cdcd00\">B cells_MLPClassifier_hdim_3072x1536x768_2025-09-25_15-48-29</strong> at: <a href='https://wandb.ai/vincenzo-civale-universi-degli-studi-di-firenze/scImmunologyClassification/runs/a9xjlw5w' target=\"_blank\">https://wandb.ai/vincenzo-civale-universi-degli-studi-di-firenze/scImmunologyClassification/runs/a9xjlw5w</a><br> View project at: <a href='https://wandb.ai/vincenzo-civale-universi-degli-studi-di-firenze/scImmunologyClassification' target=\"_blank\">https://wandb.ai/vincenzo-civale-universi-degli-studi-di-firenze/scImmunologyClassification</a><br>Synced 5 W&B file(s), 0 media file(s), 0 artifact file(s) and 0 other file(s)"
      ],
      "text/plain": [
       "<IPython.core.display.HTML object>"
      ]
     },
     "metadata": {},
     "output_type": "display_data"
    },
    {
     "data": {
      "text/html": [
       "Find logs at: <code>./wandb/run-20250925_154830-a9xjlw5w/logs</code>"
      ],
      "text/plain": [
       "<IPython.core.display.HTML object>"
      ]
     },
     "metadata": {},
     "output_type": "display_data"
    },
    {
     "data": {
      "text/html": [],
      "text/plain": [
       "<IPython.core.display.HTML object>"
      ]
     },
     "metadata": {},
     "output_type": "display_data"
    },
    {
     "data": {
      "text/html": [
       "Tracking run with wandb version 0.22.0"
      ],
      "text/plain": [
       "<IPython.core.display.HTML object>"
      ]
     },
     "metadata": {},
     "output_type": "display_data"
    },
    {
     "data": {
      "text/html": [
       "Run data is saved locally in <code>/home/vcivale/scImmulogyClassifier/wandb/run-20250925_154904-hrccgeyt</code>"
      ],
      "text/plain": [
       "<IPython.core.display.HTML object>"
      ]
     },
     "metadata": {},
     "output_type": "display_data"
    },
    {
     "data": {
      "text/html": [
       "Syncing run <strong><a href='https://wandb.ai/vincenzo-civale-universi-degli-studi-di-firenze/scImmunologyClassification/runs/hrccgeyt' target=\"_blank\">B cells_MLPClassifier_hdim_3072x1536x768_2025-09-25_15-49-04</a></strong> to <a href='https://wandb.ai/vincenzo-civale-universi-degli-studi-di-firenze/scImmunologyClassification' target=\"_blank\">Weights & Biases</a> (<a href='https://wandb.me/developer-guide' target=\"_blank\">docs</a>)<br>"
      ],
      "text/plain": [
       "<IPython.core.display.HTML object>"
      ]
     },
     "metadata": {},
     "output_type": "display_data"
    },
    {
     "data": {
      "text/html": [
       " View project at <a href='https://wandb.ai/vincenzo-civale-universi-degli-studi-di-firenze/scImmunologyClassification' target=\"_blank\">https://wandb.ai/vincenzo-civale-universi-degli-studi-di-firenze/scImmunologyClassification</a>"
      ],
      "text/plain": [
       "<IPython.core.display.HTML object>"
      ]
     },
     "metadata": {},
     "output_type": "display_data"
    },
    {
     "data": {
      "text/html": [
       " View run at <a href='https://wandb.ai/vincenzo-civale-universi-degli-studi-di-firenze/scImmunologyClassification/runs/hrccgeyt' target=\"_blank\">https://wandb.ai/vincenzo-civale-universi-degli-studi-di-firenze/scImmunologyClassification/runs/hrccgeyt</a>"
      ],
      "text/plain": [
       "<IPython.core.display.HTML object>"
      ]
     },
     "metadata": {},
     "output_type": "display_data"
    },
    {
     "data": {
      "text/html": [
       "<button onClick=\"this.nextSibling.style.display='block';this.style.display='none';\">Display W&B run</button><iframe src='https://wandb.ai/vincenzo-civale-universi-degli-studi-di-firenze/scImmunologyClassification/runs/hrccgeyt?jupyter=true' style='border:none;width:100%;height:420px;display:none;'></iframe>"
      ],
      "text/plain": [
       "<wandb.sdk.wandb_run.Run at 0x7f60b5dd1450>"
      ]
     },
     "execution_count": 42,
     "metadata": {},
     "output_type": "execute_result"
    }
   ],
   "source": [
    "current_time = datetime.now()\n",
    "run_name = f\"{sub_group}_MLPClassifier_{hidden_str}_{current_time.strftime('%Y-%m-%d_%H-%M-%S')}\"\n",
    "\n",
    "# WandB\n",
    "wandb.init(\n",
    "    project=\"scImmunologyClassification\",\n",
    "    group=sub_group,\n",
    "    name=run_name,\n",
    ")"
   ]
  },
  {
   "cell_type": "code",
   "execution_count": 43,
   "id": "9d046034",
   "metadata": {},
   "outputs": [
    {
     "name": "stderr",
     "output_type": "stream",
     "text": [
      "/home/vcivale/scImmulogyClassifier/.venv/lib/python3.10/site-packages/torch/nn/parallel/_functions.py:71: UserWarning: Was asked to gather along dimension 0, but all input tensors were scalars; will instead unsqueeze and return a vector.\n",
      "  warnings.warn(\n"
     ]
    },
    {
     "data": {
      "text/html": [
       "\n",
       "    <div>\n",
       "      \n",
       "      <progress value='588' max='5600' style='width:300px; height:20px; vertical-align: middle;'></progress>\n",
       "      [ 588/5600 05:10 < 44:13, 1.89 it/s, Epoch 21/200]\n",
       "    </div>\n",
       "    <table border=\"1\" class=\"dataframe\">\n",
       "  <thead>\n",
       " <tr style=\"text-align: left;\">\n",
       "      <th>Epoch</th>\n",
       "      <th>Training Loss</th>\n",
       "      <th>Validation Loss</th>\n",
       "      <th>Accuracy</th>\n",
       "      <th>F1</th>\n",
       "    </tr>\n",
       "  </thead>\n",
       "  <tbody>\n",
       "    <tr>\n",
       "      <td>1</td>\n",
       "      <td>No log</td>\n",
       "      <td>1.010747</td>\n",
       "      <td>0.712750</td>\n",
       "      <td>0.691885</td>\n",
       "    </tr>\n",
       "    <tr>\n",
       "      <td>2</td>\n",
       "      <td>1.454600</td>\n",
       "      <td>0.791379</td>\n",
       "      <td>0.755481</td>\n",
       "      <td>0.748615</td>\n",
       "    </tr>\n",
       "    <tr>\n",
       "      <td>3</td>\n",
       "      <td>1.454600</td>\n",
       "      <td>0.731254</td>\n",
       "      <td>0.757715</td>\n",
       "      <td>0.752160</td>\n",
       "    </tr>\n",
       "    <tr>\n",
       "      <td>4</td>\n",
       "      <td>0.793100</td>\n",
       "      <td>0.707282</td>\n",
       "      <td>0.761207</td>\n",
       "      <td>0.756611</td>\n",
       "    </tr>\n",
       "    <tr>\n",
       "      <td>5</td>\n",
       "      <td>0.793100</td>\n",
       "      <td>0.696555</td>\n",
       "      <td>0.767211</td>\n",
       "      <td>0.762540</td>\n",
       "    </tr>\n",
       "    <tr>\n",
       "      <td>6</td>\n",
       "      <td>0.710400</td>\n",
       "      <td>0.693142</td>\n",
       "      <td>0.764837</td>\n",
       "      <td>0.759481</td>\n",
       "    </tr>\n",
       "    <tr>\n",
       "      <td>7</td>\n",
       "      <td>0.710400</td>\n",
       "      <td>0.690909</td>\n",
       "      <td>0.766792</td>\n",
       "      <td>0.763061</td>\n",
       "    </tr>\n",
       "    <tr>\n",
       "      <td>8</td>\n",
       "      <td>0.671100</td>\n",
       "      <td>0.691518</td>\n",
       "      <td>0.765536</td>\n",
       "      <td>0.762998</td>\n",
       "    </tr>\n",
       "    <tr>\n",
       "      <td>9</td>\n",
       "      <td>0.648600</td>\n",
       "      <td>0.683509</td>\n",
       "      <td>0.767072</td>\n",
       "      <td>0.761998</td>\n",
       "    </tr>\n",
       "    <tr>\n",
       "      <td>10</td>\n",
       "      <td>0.648600</td>\n",
       "      <td>0.686672</td>\n",
       "      <td>0.765117</td>\n",
       "      <td>0.758276</td>\n",
       "    </tr>\n",
       "    <tr>\n",
       "      <td>11</td>\n",
       "      <td>0.630700</td>\n",
       "      <td>0.679185</td>\n",
       "      <td>0.767211</td>\n",
       "      <td>0.764232</td>\n",
       "    </tr>\n",
       "    <tr>\n",
       "      <td>12</td>\n",
       "      <td>0.630700</td>\n",
       "      <td>0.685457</td>\n",
       "      <td>0.768887</td>\n",
       "      <td>0.764136</td>\n",
       "    </tr>\n",
       "    <tr>\n",
       "      <td>13</td>\n",
       "      <td>0.611700</td>\n",
       "      <td>0.705058</td>\n",
       "      <td>0.763581</td>\n",
       "      <td>0.759798</td>\n",
       "    </tr>\n",
       "    <tr>\n",
       "      <td>14</td>\n",
       "      <td>0.611700</td>\n",
       "      <td>0.690762</td>\n",
       "      <td>0.765536</td>\n",
       "      <td>0.762868</td>\n",
       "    </tr>\n",
       "    <tr>\n",
       "      <td>15</td>\n",
       "      <td>0.604100</td>\n",
       "      <td>0.685759</td>\n",
       "      <td>0.763022</td>\n",
       "      <td>0.758504</td>\n",
       "    </tr>\n",
       "    <tr>\n",
       "      <td>16</td>\n",
       "      <td>0.604100</td>\n",
       "      <td>0.679266</td>\n",
       "      <td>0.769027</td>\n",
       "      <td>0.765096</td>\n",
       "    </tr>\n",
       "    <tr>\n",
       "      <td>17</td>\n",
       "      <td>0.587600</td>\n",
       "      <td>0.690208</td>\n",
       "      <td>0.767211</td>\n",
       "      <td>0.760060</td>\n",
       "    </tr>\n",
       "    <tr>\n",
       "      <td>18</td>\n",
       "      <td>0.574100</td>\n",
       "      <td>0.698651</td>\n",
       "      <td>0.757576</td>\n",
       "      <td>0.754615</td>\n",
       "    </tr>\n",
       "    <tr>\n",
       "      <td>19</td>\n",
       "      <td>0.574100</td>\n",
       "      <td>0.701381</td>\n",
       "      <td>0.766094</td>\n",
       "      <td>0.759871</td>\n",
       "    </tr>\n",
       "    <tr>\n",
       "      <td>20</td>\n",
       "      <td>0.562300</td>\n",
       "      <td>0.698518</td>\n",
       "      <td>0.765117</td>\n",
       "      <td>0.760274</td>\n",
       "    </tr>\n",
       "    <tr>\n",
       "      <td>21</td>\n",
       "      <td>0.562300</td>\n",
       "      <td>0.699379</td>\n",
       "      <td>0.761346</td>\n",
       "      <td>0.757578</td>\n",
       "    </tr>\n",
       "  </tbody>\n",
       "</table><p>"
      ],
      "text/plain": [
       "<IPython.core.display.HTML object>"
      ]
     },
     "metadata": {},
     "output_type": "display_data"
    },
    {
     "name": "stderr",
     "output_type": "stream",
     "text": [
      "/home/vcivale/scImmulogyClassifier/.venv/lib/python3.10/site-packages/torch/nn/parallel/_functions.py:71: UserWarning: Was asked to gather along dimension 0, but all input tensors were scalars; will instead unsqueeze and return a vector.\n",
      "  warnings.warn(\n",
      "/home/vcivale/scImmulogyClassifier/.venv/lib/python3.10/site-packages/torch/nn/parallel/_functions.py:71: UserWarning: Was asked to gather along dimension 0, but all input tensors were scalars; will instead unsqueeze and return a vector.\n",
      "  warnings.warn(\n",
      "/home/vcivale/scImmulogyClassifier/.venv/lib/python3.10/site-packages/torch/nn/parallel/_functions.py:71: UserWarning: Was asked to gather along dimension 0, but all input tensors were scalars; will instead unsqueeze and return a vector.\n",
      "  warnings.warn(\n",
      "/home/vcivale/scImmulogyClassifier/.venv/lib/python3.10/site-packages/torch/nn/parallel/_functions.py:71: UserWarning: Was asked to gather along dimension 0, but all input tensors were scalars; will instead unsqueeze and return a vector.\n",
      "  warnings.warn(\n",
      "/home/vcivale/scImmulogyClassifier/.venv/lib/python3.10/site-packages/torch/nn/parallel/_functions.py:71: UserWarning: Was asked to gather along dimension 0, but all input tensors were scalars; will instead unsqueeze and return a vector.\n",
      "  warnings.warn(\n",
      "/home/vcivale/scImmulogyClassifier/.venv/lib/python3.10/site-packages/torch/nn/parallel/_functions.py:71: UserWarning: Was asked to gather along dimension 0, but all input tensors were scalars; will instead unsqueeze and return a vector.\n",
      "  warnings.warn(\n",
      "/home/vcivale/scImmulogyClassifier/.venv/lib/python3.10/site-packages/torch/nn/parallel/_functions.py:71: UserWarning: Was asked to gather along dimension 0, but all input tensors were scalars; will instead unsqueeze and return a vector.\n",
      "  warnings.warn(\n",
      "/home/vcivale/scImmulogyClassifier/.venv/lib/python3.10/site-packages/torch/nn/parallel/_functions.py:71: UserWarning: Was asked to gather along dimension 0, but all input tensors were scalars; will instead unsqueeze and return a vector.\n",
      "  warnings.warn(\n",
      "/home/vcivale/scImmulogyClassifier/.venv/lib/python3.10/site-packages/torch/nn/parallel/_functions.py:71: UserWarning: Was asked to gather along dimension 0, but all input tensors were scalars; will instead unsqueeze and return a vector.\n",
      "  warnings.warn(\n",
      "/home/vcivale/scImmulogyClassifier/.venv/lib/python3.10/site-packages/torch/nn/parallel/_functions.py:71: UserWarning: Was asked to gather along dimension 0, but all input tensors were scalars; will instead unsqueeze and return a vector.\n",
      "  warnings.warn(\n",
      "/home/vcivale/scImmulogyClassifier/.venv/lib/python3.10/site-packages/torch/nn/parallel/_functions.py:71: UserWarning: Was asked to gather along dimension 0, but all input tensors were scalars; will instead unsqueeze and return a vector.\n",
      "  warnings.warn(\n",
      "/home/vcivale/scImmulogyClassifier/.venv/lib/python3.10/site-packages/torch/nn/parallel/_functions.py:71: UserWarning: Was asked to gather along dimension 0, but all input tensors were scalars; will instead unsqueeze and return a vector.\n",
      "  warnings.warn(\n",
      "/home/vcivale/scImmulogyClassifier/.venv/lib/python3.10/site-packages/torch/nn/parallel/_functions.py:71: UserWarning: Was asked to gather along dimension 0, but all input tensors were scalars; will instead unsqueeze and return a vector.\n",
      "  warnings.warn(\n",
      "/home/vcivale/scImmulogyClassifier/.venv/lib/python3.10/site-packages/torch/nn/parallel/_functions.py:71: UserWarning: Was asked to gather along dimension 0, but all input tensors were scalars; will instead unsqueeze and return a vector.\n",
      "  warnings.warn(\n",
      "/home/vcivale/scImmulogyClassifier/.venv/lib/python3.10/site-packages/torch/nn/parallel/_functions.py:71: UserWarning: Was asked to gather along dimension 0, but all input tensors were scalars; will instead unsqueeze and return a vector.\n",
      "  warnings.warn(\n",
      "/home/vcivale/scImmulogyClassifier/.venv/lib/python3.10/site-packages/torch/nn/parallel/_functions.py:71: UserWarning: Was asked to gather along dimension 0, but all input tensors were scalars; will instead unsqueeze and return a vector.\n",
      "  warnings.warn(\n",
      "/home/vcivale/scImmulogyClassifier/.venv/lib/python3.10/site-packages/torch/nn/parallel/_functions.py:71: UserWarning: Was asked to gather along dimension 0, but all input tensors were scalars; will instead unsqueeze and return a vector.\n",
      "  warnings.warn(\n",
      "/home/vcivale/scImmulogyClassifier/.venv/lib/python3.10/site-packages/torch/nn/parallel/_functions.py:71: UserWarning: Was asked to gather along dimension 0, but all input tensors were scalars; will instead unsqueeze and return a vector.\n",
      "  warnings.warn(\n",
      "/home/vcivale/scImmulogyClassifier/.venv/lib/python3.10/site-packages/torch/nn/parallel/_functions.py:71: UserWarning: Was asked to gather along dimension 0, but all input tensors were scalars; will instead unsqueeze and return a vector.\n",
      "  warnings.warn(\n",
      "/home/vcivale/scImmulogyClassifier/.venv/lib/python3.10/site-packages/torch/nn/parallel/_functions.py:71: UserWarning: Was asked to gather along dimension 0, but all input tensors were scalars; will instead unsqueeze and return a vector.\n",
      "  warnings.warn(\n"
     ]
    },
    {
     "data": {
      "text/plain": [
       "TrainOutput(global_step=588, training_loss=0.7029283452196186, metrics={'train_runtime': 398.1796, 'train_samples_per_second': 28776.461, 'train_steps_per_second': 14.064, 'total_flos': 0.0, 'train_loss': 0.7029283452196186, 'epoch': 21.0})"
      ]
     },
     "execution_count": 43,
     "metadata": {},
     "output_type": "execute_result"
    }
   ],
   "source": [
    "def compute_metrics(eval_pred):\n",
    "    logits, labels = eval_pred\n",
    "    predictions = logits.argmax(axis=-1)\n",
    "    acc = accuracy_score(labels, predictions)\n",
    "    f1 = f1_score(labels, predictions, average=\"weighted\")\n",
    "    return {\"accuracy\": acc, \"f1\": f1}\n",
    "\n",
    "# Training args\n",
    "training_args = TrainingArguments(\n",
    "    output_dir=output_dir,\n",
    "    logging_strategy=\"steps\",\n",
    "    logging_steps=50,\n",
    "    eval_strategy=\"epoch\",\n",
    "    save_strategy=\"epoch\",\n",
    "    learning_rate=5e-4,\n",
    "    per_device_train_batch_size=batch_size,\n",
    "    per_device_eval_batch_size=batch_size,\n",
    "    num_train_epochs=epochs,\n",
    "    weight_decay=0.01,\n",
    "    logging_dir=\"./logs\",\n",
    "    load_best_model_at_end=True,\n",
    "    report_to=\"wandb\",\n",
    "    remove_unused_columns=False,\n",
    "    optim=\"adamw_torch\",\n",
    "    lr_scheduler_type=\"cosine\",\n",
    "    warmup_ratio=0.1,\n",
    "    fp16=False,\n",
    "    dataloader_num_workers=0,\n",
    "    dataloader_pin_memory=False\n",
    ")\n",
    "\n",
    "early_stopping_callback = EarlyStoppingCallback(early_stopping_patience=10)\n",
    "\n",
    "# Multiprocessing\n",
    "torch.multiprocessing.set_start_method('spawn', force=True)\n",
    "\n",
    "# Trainer\n",
    "trainer = Trainer(\n",
    "    model=model,\n",
    "    args=training_args,\n",
    "    train_dataset=dataset['train'],\n",
    "    eval_dataset=dataset['validation'],\n",
    "    compute_metrics=compute_metrics,\n",
    "    callbacks=[early_stopping_callback],\n",
    ")\n",
    "\n",
    "trainer.train()"
   ]
  },
  {
   "cell_type": "code",
   "execution_count": 44,
   "id": "329fe74f",
   "metadata": {},
   "outputs": [],
   "source": [
    "trainer.save_model(output_dir + f\"/{run_name}\")"
   ]
  },
  {
   "cell_type": "code",
   "execution_count": 45,
   "id": "11947552",
   "metadata": {},
   "outputs": [
    {
     "name": "stderr",
     "output_type": "stream",
     "text": [
      "/home/vcivale/scImmulogyClassifier/.venv/lib/python3.10/site-packages/torch/nn/parallel/_functions.py:71: UserWarning: Was asked to gather along dimension 0, but all input tensors were scalars; will instead unsqueeze and return a vector.\n",
      "  warnings.warn(\n"
     ]
    },
    {
     "data": {
      "text/html": [],
      "text/plain": [
       "<IPython.core.display.HTML object>"
      ]
     },
     "metadata": {},
     "output_type": "display_data"
    },
    {
     "name": "stderr",
     "output_type": "stream",
     "text": [
      "/home/vcivale/scImmulogyClassifier/.venv/lib/python3.10/site-packages/torch/nn/parallel/_functions.py:71: UserWarning: Was asked to gather along dimension 0, but all input tensors were scalars; will instead unsqueeze and return a vector.\n",
      "  warnings.warn(\n"
     ]
    },
    {
     "data": {
      "text/html": [],
      "text/plain": [
       "<IPython.core.display.HTML object>"
      ]
     },
     "metadata": {},
     "output_type": "display_data"
    }
   ],
   "source": [
    "def log_confusion_matrix(trainer, dataset, split_name):\n",
    "    preds_output = trainer.predict(dataset)\n",
    "    preds = np.argmax(preds_output.predictions, axis=-1)\n",
    "    labels = preds_output.label_ids\n",
    "\n",
    "    # Calcola confusion matrix\n",
    "    cm = confusion_matrix(labels, preds, labels=list(id2label.keys()))\n",
    "\n",
    "    # Log su W&B (con etichette leggibili)\n",
    "    wandb.log({\n",
    "        f\"confusion_matrix/{split_name}\": wandb.plot.confusion_matrix(\n",
    "            y_true=labels,\n",
    "            preds=preds,\n",
    "            class_names=list(id2label.values())\n",
    "        )\n",
    "    })\n",
    "\n",
    "# Log confusion matrix su validation e test\n",
    "log_confusion_matrix(trainer, dataset[\"validation\"], \"validation\")\n",
    "log_confusion_matrix(trainer, dataset[\"test\"], \"test\")"
   ]
  },
  {
   "cell_type": "code",
   "execution_count": null,
   "id": "0e6b9c33",
   "metadata": {},
   "outputs": [],
   "source": []
  }
 ],
 "metadata": {
  "kernelspec": {
   "display_name": ".venv (3.10.12)",
   "language": "python",
   "name": "python3"
  },
  "language_info": {
   "codemirror_mode": {
    "name": "ipython",
    "version": 3
   },
   "file_extension": ".py",
   "mimetype": "text/x-python",
   "name": "python",
   "nbconvert_exporter": "python",
   "pygments_lexer": "ipython3",
   "version": "3.10.12"
  }
 },
 "nbformat": 4,
 "nbformat_minor": 5
}
