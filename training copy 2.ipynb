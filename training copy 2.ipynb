{
 "cells": [
  {
   "cell_type": "code",
   "execution_count": 6,
   "id": "9c97f92a",
   "metadata": {},
   "outputs": [],
   "source": [
    "from transformers import Trainer, TrainingArguments, EarlyStoppingCallback\n",
    "from datasets import load_dataset, ClassLabel, load_from_disk\n",
    "from sklearn.metrics import accuracy_score, f1_score, confusion_matrix\n",
    "from datetime import datetime\n",
    "import numpy as np\n",
    "import wandb\n",
    "import torch\n",
    "from torch.utils.data import DataLoader, WeightedRandomSampler\n",
    "\n",
    "from model import MLPClassifier, MLPConfig"
   ]
  },
  {
   "cell_type": "code",
   "execution_count": 7,
   "id": "b7e8f38a",
   "metadata": {},
   "outputs": [],
   "source": [
    "label_column = \"Detailed_Cluster_names\"\n",
    "sub_group = \"Myeloid cells\"\n",
    "batch_size = 256\n",
    "epochs = 200\n",
    "\n",
    "output_dir = \"/equilibrium/datasets/TCGA-histological-data/scImmunology/output\""
   ]
  },
  {
   "cell_type": "code",
   "execution_count": 8,
   "id": "bb2c93bf",
   "metadata": {},
   "outputs": [],
   "source": [
    "dataset = load_from_disk(\n",
    "    \"/equilibrium/datasets/TCGA-histological-data/scImmunology/dataset_v2\"\n",
    ")"
   ]
  },
  {
   "cell_type": "code",
   "execution_count": 9,
   "id": "42489db4",
   "metadata": {},
   "outputs": [],
   "source": [
    "# # Mappa Detailed_Cluster_names → Cluster_names (macro categorie)\n",
    "# sub_to_macro = {\n",
    "#     # B cells\n",
    "#     \"Activated\": \"B cells\",\n",
    "#     \"Atypical memory\": \"B cells\",\n",
    "#     \"CD5+ B cells\": \"B cells\",\n",
    "#     \"Naive\": \"B cells\",\n",
    "#     \"Naive-IFN\": \"B cells\",\n",
    "#     \"Non-switched memory\": \"B cells\",\n",
    "#     \"Plasma cells\": \"B cells\",\n",
    "#     \"Switched memory\": \"B cells\",\n",
    "#     \"Transitional\": \"B cells\",\n",
    "\n",
    "#     # CD4+ T cells\n",
    "#     \"Exhausted-like memory\": \"CD4+ T cells\",\n",
    "#     \"HLA-DR+ memory\": \"CD4+ T cells\",\n",
    "#     \"Naive\": \"CD4+ T cells\",\n",
    "#     \"Naive-IFN\": \"CD4+ T cells\",\n",
    "#     \"Temra\": \"CD4+ T cells\",\n",
    "#     \"Terminal effector\": \"CD4+ T cells\",\n",
    "#     \"Tfh\": \"CD4+ T cells\",\n",
    "#     \"Th1\": \"CD4+ T cells\",\n",
    "#     \"Th1/Th17\": \"CD4+ T cells\",\n",
    "#     \"Th17\": \"CD4+ T cells\",\n",
    "#     \"Th2\": \"CD4+ T cells\",\n",
    "#     \"Th22\": \"CD4+ T cells\",\n",
    "#     \"Treg KLRB1+RORC+\": \"CD4+ T cells\",\n",
    "#     \"Treg cytotoxic\": \"CD4+ T cells\",\n",
    "#     \"Treg memory\": \"CD4+ T cells\",\n",
    "#     \"Treg naive\": \"CD4+ T cells\",\n",
    "\n",
    "#     # gd T cells\n",
    "#     \"Vd1 GZMB+\": \"gd T cells\",\n",
    "#     \"Vd1 GZMK+\": \"gd T cells\",\n",
    "#     \"Vd2 GZMB+\": \"gd T cells\",\n",
    "#     \"Vd2 GZMK+\": \"gd T cells\",\n",
    "#     \"gd naive\": \"gd T cells\",\n",
    "\n",
    "#     # Myeloid cells\n",
    "#     \"Classical monocytes\": \"Myeloid cells\",\n",
    "#     \"Non-classical monocytes\": \"Myeloid cells\",\n",
    "#     \"cDCs\": \"Myeloid cells\",\n",
    "#     \"pDCs\": \"Myeloid cells\",\n",
    "\n",
    "#     # NK cells\n",
    "#     \"CD56bright\": \"NK cells\",\n",
    "#     \"CD56dim CD57+\": \"NK cells\",\n",
    "#     \"CD56dim CD57-\": \"NK cells\",\n",
    "#     \"CD56dim CD57int\": \"NK cells\",\n",
    "#     \"CD56dim CD57low\": \"NK cells\",\n",
    "#     \"Proliferative\": \"NK cells\",   # ← in NK classifier\n",
    "\n",
    "#     # TRAV1-2- CD8+ T cells\n",
    "#     \"HLA-DR+\": \"TRAV1-2- CD8+ T cells\",\n",
    "#     \"NKT-like\": \"TRAV1-2- CD8+ T cells\",\n",
    "#     \"Naive\": \"TRAV1-2- CD8+ T cells\",\n",
    "#     \"Naive-IFN\": \"TRAV1-2- CD8+ T cells\",\n",
    "#     \"Proliferative\": \"TRAV1-2- CD8+ T cells\",  # ← in CD8 classifier\n",
    "#     \"Tcm CCR4+\": \"TRAV1-2- CD8+ T cells\",\n",
    "#     \"Tcm CCR4-\": \"TRAV1-2- CD8+ T cells\",\n",
    "#     \"Tem GZMB+\": \"TRAV1-2- CD8+ T cells\",\n",
    "#     \"Tem GZMK+\": \"TRAV1-2- CD8+ T cells\",\n",
    "#     \"Temra\": \"TRAV1-2- CD8+ T cells\",\n",
    "#     \"Tmem KLRC2+\": \"TRAV1-2- CD8+ T cells\",\n",
    "#     \"Trm\": \"TRAV1-2- CD8+ T cells\",\n",
    "\n",
    "#     # Macro categorie dirette (già definite come classi singole)\n",
    "#     \"DN T cells\": \"DN T cells\",\n",
    "#     \"MAIT cells\": \"MAIT cells\",\n",
    "#     \"Progenitor cells\": \"Progenitor cells\"\n",
    "# }\n",
    "\n",
    "# dataset = dataset.map(lambda x: {\n",
    "#     \"Cluster_names\": sub_to_macro.get(x[\"Detailed_Cluster_names\"], \"Unknown\")\n",
    "# })\n"
   ]
  },
  {
   "cell_type": "code",
   "execution_count": 10,
   "id": "0e44dc29",
   "metadata": {},
   "outputs": [
    {
     "name": "stderr",
     "output_type": "stream",
     "text": [
      "Filter:   0%|          | 0/1533093 [00:00<?, ? examples/s]"
     ]
    },
    {
     "name": "stderr",
     "output_type": "stream",
     "text": [
      "Filter: 100%|██████████| 1533093/1533093 [34:18<00:00, 744.75 examples/s]\n",
      "Filter: 100%|██████████| 191637/191637 [04:16<00:00, 746.31 examples/s]\n",
      "Filter: 100%|██████████| 191637/191637 [04:20<00:00, 736.91 examples/s]\n",
      "Casting the dataset: 100%|██████████| 269548/269548 [01:06<00:00, 4023.44 examples/s] \n",
      "Casting the dataset: 100%|██████████| 33693/33693 [00:08<00:00, 3837.04 examples/s] \n",
      "Casting the dataset: 100%|██████████| 33694/33694 [00:14<00:00, 2317.96 examples/s] \n"
     ]
    }
   ],
   "source": [
    "if label_column != \"Cluster_names\":\n",
    "    dataset = dataset.filter(lambda example: example[\"Cluster_names\"] == sub_group)\n",
    "\n",
    "# Gestione etichette\n",
    "unique_labels = sorted(set(dataset['validation'][label_column]))\n",
    "class_label = ClassLabel(names=unique_labels)\n",
    "\n",
    "if len(unique_labels) == 1:\n",
    "    raise ValueError(f\"Only one class found in the dataset: {unique_labels}. Cannot train a classifier with a single class.\")\n",
    "\n",
    "dataset = dataset.cast_column(label_column, class_label)\n",
    "label_feature = dataset['train'].features[label_column]\n",
    "id2label = {i: label_feature.int2str(i) for i in range(label_feature.num_classes)}\n",
    "label2id = {v: k for k, v in id2label.items()}"
   ]
  },
  {
   "cell_type": "code",
   "execution_count": null,
   "id": "c2826fb7",
   "metadata": {},
   "outputs": [],
   "source": [
    "column_remove = [col for col in dataset['validation'].column_names if col != label_column and col != 'input_ids']\n",
    "dataset = dataset.remove_columns(column_remove)\n",
    "\n",
    "# Convertilo in torch Dataset\n",
    "dataset['train'] = dataset['train'].with_format(\n",
    "    type='torch',\n",
    "    columns=['input_ids', label_column],\n",
    "    device='cuda'\n",
    ")\n",
    "\n",
    "dataset['validation'] = dataset['validation'].with_format(\n",
    "    type='torch',\n",
    "    columns=['input_ids', label_column],\n",
    "    device='cuda'\n",
    ")\n",
    "\n",
    "dataset = dataset.rename_columns({label_column: \"labels\"})"
   ]
  },
  {
   "cell_type": "code",
   "execution_count": 9,
   "id": "d70c6179",
   "metadata": {},
   "outputs": [],
   "source": [
    "input_dim = 3072\n",
    "labels = np.unique(dataset['test']['labels'])\n",
    "output_dim = len(labels)\n",
    "hidden_dims = [1536, 768]\n",
    "hidden_str = \"hdim_\" + \"x\".join(map(str, hidden_dims))\n",
    "\n",
    "config = MLPConfig(\n",
    "    input_dim=input_dim,\n",
    "    hidden_dims=hidden_dims,\n",
    "    output_dim=output_dim,\n",
    "    dropout_rate=0.2,\n",
    "    use_residual_in_hidden=True,\n",
    "    id2label=id2label,\n",
    "    label2id=label2id\n",
    ")\n",
    "\n",
    "model = MLPClassifier(config)"
   ]
  },
  {
   "cell_type": "code",
   "execution_count": 10,
   "id": "f7745413",
   "metadata": {},
   "outputs": [
    {
     "name": "stderr",
     "output_type": "stream",
     "text": [
      "\u001b[34m\u001b[1mwandb\u001b[0m: Currently logged in as: \u001b[33mvincenzo-civale\u001b[0m (\u001b[33mvincenzo-civale-universi-degli-studi-di-firenze\u001b[0m) to \u001b[32mhttps://api.wandb.ai\u001b[0m. Use \u001b[1m`wandb login --relogin`\u001b[0m to force relogin\n"
     ]
    },
    {
     "data": {
      "text/html": [],
      "text/plain": [
       "<IPython.core.display.HTML object>"
      ]
     },
     "metadata": {},
     "output_type": "display_data"
    },
    {
     "data": {
      "text/html": [
       "Tracking run with wandb version 0.22.0"
      ],
      "text/plain": [
       "<IPython.core.display.HTML object>"
      ]
     },
     "metadata": {},
     "output_type": "display_data"
    },
    {
     "data": {
      "text/html": [
       "Run data is saved locally in <code>/home/vcivale/scImmulogyClassifier/wandb/run-20250924_114542-d6bmltk9</code>"
      ],
      "text/plain": [
       "<IPython.core.display.HTML object>"
      ]
     },
     "metadata": {},
     "output_type": "display_data"
    },
    {
     "data": {
      "text/html": [
       "Syncing run <strong><a href='https://wandb.ai/vincenzo-civale-universi-degli-studi-di-firenze/scImmunologyClassification/runs/d6bmltk9' target=\"_blank\">All_MLPClassifier_hdim_1536x768_2025-09-24_11-45-41</a></strong> to <a href='https://wandb.ai/vincenzo-civale-universi-degli-studi-di-firenze/scImmunologyClassification' target=\"_blank\">Weights & Biases</a> (<a href='https://wandb.me/developer-guide' target=\"_blank\">docs</a>)<br>"
      ],
      "text/plain": [
       "<IPython.core.display.HTML object>"
      ]
     },
     "metadata": {},
     "output_type": "display_data"
    },
    {
     "data": {
      "text/html": [
       " View project at <a href='https://wandb.ai/vincenzo-civale-universi-degli-studi-di-firenze/scImmunologyClassification' target=\"_blank\">https://wandb.ai/vincenzo-civale-universi-degli-studi-di-firenze/scImmunologyClassification</a>"
      ],
      "text/plain": [
       "<IPython.core.display.HTML object>"
      ]
     },
     "metadata": {},
     "output_type": "display_data"
    },
    {
     "data": {
      "text/html": [
       " View run at <a href='https://wandb.ai/vincenzo-civale-universi-degli-studi-di-firenze/scImmunologyClassification/runs/d6bmltk9' target=\"_blank\">https://wandb.ai/vincenzo-civale-universi-degli-studi-di-firenze/scImmunologyClassification/runs/d6bmltk9</a>"
      ],
      "text/plain": [
       "<IPython.core.display.HTML object>"
      ]
     },
     "metadata": {},
     "output_type": "display_data"
    },
    {
     "data": {
      "text/html": [
       "<button onClick=\"this.nextSibling.style.display='block';this.style.display='none';\">Display W&B run</button><iframe src='https://wandb.ai/vincenzo-civale-universi-degli-studi-di-firenze/scImmunologyClassification/runs/d6bmltk9?jupyter=true' style='border:none;width:100%;height:420px;display:none;'></iframe>"
      ],
      "text/plain": [
       "<wandb.sdk.wandb_run.Run at 0x7fd1901c3610>"
      ]
     },
     "execution_count": 10,
     "metadata": {},
     "output_type": "execute_result"
    }
   ],
   "source": [
    "current_time = datetime.now()\n",
    "run_name = f\"{sub_group}_MLPClassifier_{hidden_str}_{current_time.strftime('%Y-%m-%d_%H-%M-%S')}\"\n",
    "\n",
    "# WandB\n",
    "wandb.init(\n",
    "    project=\"scImmunologyClassification\",\n",
    "    group=sub_group,\n",
    "    name=run_name,\n",
    ")"
   ]
  },
  {
   "cell_type": "code",
   "execution_count": null,
   "id": "9d046034",
   "metadata": {},
   "outputs": [
    {
     "name": "stderr",
     "output_type": "stream",
     "text": [
      "/home/vcivale/scImmulogyClassifier/.venv/lib/python3.10/site-packages/torch/nn/parallel/_functions.py:71: UserWarning: Was asked to gather along dimension 0, but all input tensors were scalars; will instead unsqueeze and return a vector.\n",
      "  warnings.warn(\n"
     ]
    },
    {
     "data": {
      "text/html": [
       "\n",
       "    <div>\n",
       "      \n",
       "      <progress value='46' max='599000' style='width:300px; height:20px; vertical-align: middle;'></progress>\n",
       "      [    46/599000 15:05 < 3423:18:49, 0.05 it/s, Epoch 0.02/200]\n",
       "    </div>\n",
       "    <table border=\"1\" class=\"dataframe\">\n",
       "  <thead>\n",
       " <tr style=\"text-align: left;\">\n",
       "      <th>Epoch</th>\n",
       "      <th>Training Loss</th>\n",
       "      <th>Validation Loss</th>\n",
       "    </tr>\n",
       "  </thead>\n",
       "  <tbody>\n",
       "  </tbody>\n",
       "</table><p>"
      ],
      "text/plain": [
       "<IPython.core.display.HTML object>"
      ]
     },
     "metadata": {},
     "output_type": "display_data"
    }
   ],
   "source": [
    "def compute_metrics(eval_pred):\n",
    "    logits, labels = eval_pred\n",
    "    predictions = logits.argmax(axis=-1)\n",
    "    acc = accuracy_score(labels, predictions)\n",
    "    f1 = f1_score(labels, predictions, average=\"weighted\")\n",
    "    return {\"accuracy\": acc, \"f1\": f1}\n",
    "\n",
    "# Training args\n",
    "training_args = TrainingArguments(\n",
    "    output_dir=output_dir,\n",
    "    logging_strategy=\"steps\",\n",
    "    logging_steps=50,\n",
    "    eval_strategy=\"epoch\",\n",
    "    save_strategy=\"epoch\",\n",
    "    learning_rate=5e-4,\n",
    "    per_device_train_batch_size=batch_size,\n",
    "    per_device_eval_batch_size=batch_size,\n",
    "    num_train_epochs=epochs,\n",
    "    weight_decay=0.01,\n",
    "    logging_dir=\"./logs\",\n",
    "    load_best_model_at_end=True,\n",
    "    report_to=\"wandb\",\n",
    "    remove_unused_columns=False,\n",
    "    optim=\"adamw_torch\",\n",
    "    lr_scheduler_type=\"cosine\",\n",
    "    warmup_ratio=0.1,\n",
    "    fp16=False,\n",
    "    dataloader_num_workers=0,\n",
    "    dataloader_pin_memory=False\n",
    ")\n",
    "\n",
    "early_stopping_callback = EarlyStoppingCallback(early_stopping_patience=10)\n",
    "\n",
    "# Multiprocessing\n",
    "torch.multiprocessing.set_start_method('spawn', force=True)\n",
    "\n",
    "# Trainer\n",
    "trainer = Trainer(\n",
    "    model=model,\n",
    "    args=training_args,\n",
    "    train_dataset=dataset['train'],\n",
    "    eval_dataset=dataset['validation'],\n",
    "    compute_metrics=compute_metrics,\n",
    "    callbacks=[early_stopping_callback],\n",
    ")\n",
    "\n",
    "trainer.train()"
   ]
  },
  {
   "cell_type": "code",
   "execution_count": null,
   "id": "329fe74f",
   "metadata": {},
   "outputs": [],
   "source": [
    "trainer.save_model(output_dir + f\"/{run_name}\")"
   ]
  },
  {
   "cell_type": "code",
   "execution_count": null,
   "id": "11947552",
   "metadata": {},
   "outputs": [],
   "source": [
    "def log_confusion_matrix(trainer, dataset, split_name):\n",
    "    preds_output = trainer.predict(dataset)\n",
    "    preds = np.argmax(preds_output.predictions, axis=-1)\n",
    "    labels = preds_output.label_ids\n",
    "\n",
    "    # Calcola confusion matrix\n",
    "    cm = confusion_matrix(labels, preds, labels=list(id2label.keys()))\n",
    "\n",
    "    # Log su W&B (con etichette leggibili)\n",
    "    wandb.log({\n",
    "        f\"confusion_matrix/{split_name}\": wandb.plot.confusion_matrix(\n",
    "            y_true=labels,\n",
    "            preds=preds,\n",
    "            class_names=list(id2label.values())\n",
    "        )\n",
    "    })\n",
    "\n",
    "# Log confusion matrix su validation e test\n",
    "log_confusion_matrix(trainer, dataset[\"validation\"], \"validation\")\n",
    "log_confusion_matrix(trainer, dataset[\"test\"], \"test\")"
   ]
  }
 ],
 "metadata": {
  "kernelspec": {
   "display_name": ".venv (3.10.12)",
   "language": "python",
   "name": "python3"
  },
  "language_info": {
   "codemirror_mode": {
    "name": "ipython",
    "version": 3
   },
   "file_extension": ".py",
   "mimetype": "text/x-python",
   "name": "python",
   "nbconvert_exporter": "python",
   "pygments_lexer": "ipython3",
   "version": "3.10.12"
  }
 },
 "nbformat": 4,
 "nbformat_minor": 5
}
